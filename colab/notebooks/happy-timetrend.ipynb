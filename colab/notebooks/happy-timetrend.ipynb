{
    "nbformat": 4,
    "nbformat_minor": 0,
    "metadata": {
        "colab": {
            "name": "happy-timetrend.ipynb",
            "provenance": []
        },
        "kernelspec": {
            "name": "ir",
            "display_name": "R"
        }
    },
    "cells": [
        {
            "cell_type": "code",
            "metadata": {
                "id": "IlOR1i1fc7SJ"
            },
            "source": [
                "variable<- 'happy'\n",
                "install.packages('ghql')\n",
                "library(ghql)\n",
                "library(tidyverse)\n",
                "con <- GraphqlClient$new(\n",
                "  url = \"https://flowing-crow-42.hasura.app/v1/graphql\")\n",
                "\n",
                "\n",
                "qry <- Query$new()\n",
                "qry$query('mydata', paste0('{\n",
                "  gss_gss_data {\n",
                "    Education_gap\n",
                "    year\n",
                "    ',variable, '_num\n",
                "    wtssall\n",
                "  }\n",
                "}'))\n",
                "data<- qry$queries$mydata\n",
                "# returns json\n",
                "x <- con$exec(qry$queries$mydata)\n",
                "data<- jsonlite::fromJSON(x)\n",
                "d<- data$data[[1]]\n",
                "timetrend<- d %>% group_by(year, Education_gap) %>%\n",
                "  summarise(avg = weighted.mean(!!sym(paste0(variable, '_num')), w = wtssall, na.rm=TRUE))\n",
                "\n",
                "timetrend"
            ],
            "execution_count": null,
            "outputs": []
        }
    ]
}